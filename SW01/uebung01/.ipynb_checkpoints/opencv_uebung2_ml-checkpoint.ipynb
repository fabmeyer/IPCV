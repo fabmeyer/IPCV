{
 "cells": [
  {
   "cell_type": "markdown",
   "metadata": {
    "collapsed": true
   },
   "source": [
    "# Übung 2: Morphologische Operationen"
   ]
  },
  {
   "cell_type": "markdown",
   "metadata": {},
   "source": [
    "### Einführung\n",
    "\n",
    "In dieser Übung wollen wir morphologische Operationen in OpenCV betrachten.\n"
   ]
  },
  {
   "cell_type": "code",
   "execution_count": null,
   "metadata": {},
   "outputs": [],
   "source": [
    "# OpenCV needs to be included first\n",
    "import cv2\n",
    "import numpy as np\n",
    "\n",
    "# for displaying images in jupyter\n",
    "\n",
    "import matplotlib as mpl\n",
    "from matplotlib import pyplot as plt\n",
    "%matplotlib inline\n",
    "mpl.rcParams['figure.dpi']= 200\n",
    "\n"
   ]
  },
  {
   "cell_type": "markdown",
   "metadata": {},
   "source": [
    "### Aufgabe 1: Dilate and Erode\n",
    "\n",
    "Morphologische Operationen werden typischerweise auf binären Bildern angewendet. (Die OpenGL Implementationen verwenden jeweils die Maximum Operationen zwischen Strukturelement und Bild, sodass die Operationen zumindest auch auf Grauwert Bildern durchgeführt werden können, ausserdem werden die Operationen auf allen Kanälen angewendet.)\n",
    "\n",
    "Ein Beispiel Bild steht unter images/Figuren.png zur Verfügung. Typischerweise erhalten sie ein binäres Bild sonst mit einer Schwellwert (Threshold) Operation."
   ]
  },
  {
   "cell_type": "code",
   "execution_count": null,
   "metadata": {},
   "outputs": [],
   "source": [
    "image = cv2.imread('images/Figuren.png')\n",
    "plt.imshow(image)"
   ]
  },
  {
   "cell_type": "markdown",
   "metadata": {},
   "source": [
    "\n",
    "Wenden Sie die morphologischen Operationen dilate und erode mit verschiedenen Strukturelementen und verschiedenen Grössen an. Strukturelemente können mit der Funktion `getStructuringElement` erzeugt werden. Die OpenGL Implementation erlaube es auch die Operationen mit einem Aufruf mehrmals anzuwenden."
   ]
  },
  {
   "cell_type": "code",
   "execution_count": null,
   "metadata": {},
   "outputs": [],
   "source": [
    "struct = cv2.getStructuringElement(cv2.MORPH_ELLIPSE, (7, 7))\n",
    "plt.imshow(struct, cmap='gray')"
   ]
  },
  {
   "cell_type": "code",
   "execution_count": null,
   "metadata": {},
   "outputs": [],
   "source": [
    "image_dilate = cv2.dilate(image, struct)\n",
    "plt.imshow(image_dilate)"
   ]
  },
  {
   "cell_type": "code",
   "execution_count": null,
   "metadata": {},
   "outputs": [],
   "source": [
    "image_erode = cv2.erode(image, struct)\n",
    "plt.imshow(image_erode)"
   ]
  },
  {
   "cell_type": "markdown",
   "metadata": {},
   "source": [
    "### Aufgabe 3: Opening/Closing\n",
    "\n",
    "\n",
    "Für Opening und Closing kann in OpenCV die Funktion `morphologyEx` verwendet werden. Wie wirkt sich opening and closing auf das Beispielbild aus?"
   ]
  },
  {
   "cell_type": "code",
   "execution_count": null,
   "metadata": {},
   "outputs": [],
   "source": [
    "image_open = cv2.morphologyEx(image, cv2.MORPH_OPEN, struct)\n",
    "plt.imshow(image_open)  "
   ]
  },
  {
   "cell_type": "code",
   "execution_count": null,
   "metadata": {},
   "outputs": [],
   "source": [
    "image_close = cv2.morphologyEx(image, cv2.MORPH_CLOSE, struct)\n",
    "plt.imshow(image_close)  "
   ]
  },
  {
   "cell_type": "markdown",
   "metadata": {},
   "source": [
    "### Aufgabe 2: Kugeln zählen\n",
    "\n",
    "Finden Sie eine Sequenz von OpenCV Operationen die die Kugeln in folgenden Bild zählt? Als Ausgabe sollten sie dann also schlussendlich eine Zahl (zu Speichern in `nr_kugeln`) erhalten.\n",
    "\n",
    "Hinweis: Beachten Sie dass die Kugeln schwarz auf hellem Hintergrund dargestellt sind.\n"
   ]
  },
  {
   "cell_type": "code",
   "execution_count": null,
   "metadata": {},
   "outputs": [],
   "source": [
    "nr_kugeln = 0\n",
    "kugeln = cv2.imread('images/Kugeln.jpg')\n",
    "plt.imshow(kugeln)\n",
    "print('Anzahl Kugeln: {}'.format(nr_kugeln))"
   ]
  },
  {
   "cell_type": "code",
   "execution_count": null,
   "metadata": {},
   "outputs": [],
   "source": [
    "\n",
    "# Invertieren des Bildes, sodass wir helle Kugeln (hohe Werte) auf dem Hintergrund haben\n",
    "kugeln_inv = 255 - kugeln\n",
    "# Tiefer Schwellwert um möglichst ausgefüllte Kugeln zu erhalten\n",
    "t_value, kugeln_binary = cv2.threshold(kugeln_inv[:,:,0], 50, 255, cv2.THRESH_BINARY)\n",
    "# Löcher eliminieren\n",
    "struct = cv2.getStructuringElement(cv2.MORPH_ELLIPSE, (5, 5))\n",
    "kugeln_closed = cv2.morphologyEx(kugeln_binary, cv2.MORPH_CLOSE, struct)\n",
    "# Kugeln separieren mit erode\n",
    "kugeln_sep = cv2.erode(kugeln_closed, struct, iterations=10)\n",
    "plt.imshow(kugeln_sep, cmap='gray')\n",
    "# Kugeln zählen\n",
    "nr_kugeln, labels = cv2.connectedComponents(kugeln_sep)\n",
    "print('Anzahl Kugeln: {}'.format(nr_kugeln))\n",
    "plt.imshow(labels, cmap='rainbow')"
   ]
  }
 ],
 "metadata": {
  "kernelspec": {
   "display_name": "Python 3",
   "language": "python",
   "name": "python3"
  },
  "language_info": {
   "codemirror_mode": {
    "name": "ipython",
    "version": 3
   },
   "file_extension": ".py",
   "mimetype": "text/x-python",
   "name": "python",
   "nbconvert_exporter": "python",
   "pygments_lexer": "ipython3",
   "version": "3.6.3"
  }
 },
 "nbformat": 4,
 "nbformat_minor": 1
}
